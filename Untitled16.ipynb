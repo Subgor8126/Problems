{
 "cells": [
  {
   "cell_type": "code",
   "execution_count": 27,
   "id": "ed36019b",
   "metadata": {},
   "outputs": [
    {
     "data": {
      "text/plain": [
       "12"
      ]
     },
     "execution_count": 27,
     "metadata": {},
     "output_type": "execute_result"
    }
   ],
   "source": [
    "num1 = 48\n",
    "num2 = 180\n",
    "\n",
    "\n",
    "\n",
    "def gcd(num1, num2):\n",
    "    maxim = max(num1, num2)\n",
    "    minim = min(num1, num2)\n",
    "    list = []\n",
    "    rem = maxim%minim\n",
    "    while(rem!=0):\n",
    "            rem = maxim%minim\n",
    "            q = maxim//minim\n",
    "            maxim = minim*q+rem\n",
    "            maxim = minim\n",
    "            minim = rem\n",
    "            list.append(rem)\n",
    "    return list[-2]\n",
    "            \n",
    "gcd(num1, num2)"
   ]
  }
 ],
 "metadata": {
  "kernelspec": {
   "display_name": "Python 3",
   "language": "python",
   "name": "python3"
  },
  "language_info": {
   "codemirror_mode": {
    "name": "ipython",
    "version": 3
   },
   "file_extension": ".py",
   "mimetype": "text/x-python",
   "name": "python",
   "nbconvert_exporter": "python",
   "pygments_lexer": "ipython3",
   "version": "3.8.8"
  }
 },
 "nbformat": 4,
 "nbformat_minor": 5
}
